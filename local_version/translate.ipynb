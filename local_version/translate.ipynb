{
 "cells": [
  {
   "cell_type": "code",
   "execution_count": 1,
   "id": "f2131ebf-3d03-4f2d-9a39-d417f3a9b6e1",
   "metadata": {
    "tags": []
   },
   "outputs": [
    {
     "name": "stderr",
     "output_type": "stream",
     "text": [
      "'gcloud'��(��) ���� �Ǵ� �ܺ� ����, ������ �� �ִ� ���α׷�, �Ǵ�\n",
      "��ġ ������ �ƴմϴ�.\n"
     ]
    }
   ],
   "source": [
    "## 되도록 실행하지 말고 참고만 하세요. (과금됨)\n",
    "## 구글 번역 api와 랭체인을 사용하여 번역을 진행하는 코드입니다.\n",
    "## 입력 제한으로 인해 텍스트를 분할하여 입력하였습니다.\n",
    "\n",
    "\n",
    "PROJECT_ID = \"yourid\"  # @param {type:\"string\"}\n",
    "\n",
    "# Set the project id\n",
    "! gcloud config set project {PROJECT_ID}\n",
    "REGION = \"us-central1\"  # @param {type: \"string\"}"
   ]
  },
  {
   "cell_type": "code",
   "execution_count": 3,
   "id": "d533aad5-c5ba-4d3c-9188-7399cfb2f157",
   "metadata": {
    "tags": []
   },
   "outputs": [
    {
     "ename": "ImportError",
     "evalue": "Install Google Cloud Translate to use this parser.(pip install google-cloud-translate)",
     "output_type": "error",
     "traceback": [
      "\u001b[1;31m---------------------------------------------------------------------------\u001b[0m",
      "\u001b[1;31mImportError\u001b[0m                               Traceback (most recent call last)",
      "File \u001b[1;32mc:\\Users\\gdone9009\\.conda\\envs\\teamkim\\lib\\site-packages\\langchain_community\\document_transformers\\google_translate.py:30\u001b[0m, in \u001b[0;36mGoogleTranslateTransformer.__init__\u001b[1;34m(self, project_id, location, model_id, glossary_id, api_endpoint)\u001b[0m\n\u001b[0;32m     29\u001b[0m     \u001b[38;5;28;01mfrom\u001b[39;00m \u001b[38;5;21;01mgoogle\u001b[39;00m\u001b[38;5;21;01m.\u001b[39;00m\u001b[38;5;21;01mapi_core\u001b[39;00m\u001b[38;5;21;01m.\u001b[39;00m\u001b[38;5;21;01mclient_options\u001b[39;00m \u001b[38;5;28;01mimport\u001b[39;00m ClientOptions\n\u001b[1;32m---> 30\u001b[0m     \u001b[38;5;28;01mfrom\u001b[39;00m \u001b[38;5;21;01mgoogle\u001b[39;00m\u001b[38;5;21;01m.\u001b[39;00m\u001b[38;5;21;01mcloud\u001b[39;00m \u001b[38;5;28;01mimport\u001b[39;00m translate\n\u001b[0;32m     31\u001b[0m \u001b[38;5;28;01mexcept\u001b[39;00m \u001b[38;5;167;01mImportError\u001b[39;00m \u001b[38;5;28;01mas\u001b[39;00m exc:\n",
      "\u001b[1;31mImportError\u001b[0m: cannot import name 'translate' from 'google.cloud' (unknown location)",
      "\nThe above exception was the direct cause of the following exception:\n",
      "\u001b[1;31mImportError\u001b[0m                               Traceback (most recent call last)",
      "Cell \u001b[1;32mIn[3], line 32\u001b[0m\n\u001b[0;32m     29\u001b[0m text_chunks \u001b[38;5;241m=\u001b[39m split_text_into_chunks(sample_text, max_chunk_size\u001b[38;5;241m=\u001b[39m\u001b[38;5;241m300\u001b[39m)\n\u001b[0;32m     31\u001b[0m \u001b[38;5;66;03m# GoogleTranslateTransformer를 초기화하고 번역 수행\u001b[39;00m\n\u001b[1;32m---> 32\u001b[0m translator \u001b[38;5;241m=\u001b[39m \u001b[43mGoogleTranslateTransformer\u001b[49m\u001b[43m(\u001b[49m\u001b[43mproject_id\u001b[49m\u001b[38;5;241;43m=\u001b[39;49m\u001b[43mPROJECT_ID\u001b[49m\u001b[43m)\u001b[49m\n\u001b[0;32m     34\u001b[0m \u001b[38;5;66;03m# 각각의 청크를 Document로 변환하고 번역 수행\u001b[39;00m\n\u001b[0;32m     35\u001b[0m translated_documents \u001b[38;5;241m=\u001b[39m []\n",
      "File \u001b[1;32mc:\\Users\\gdone9009\\.conda\\envs\\teamkim\\lib\\site-packages\\langchain_community\\document_transformers\\google_translate.py:32\u001b[0m, in \u001b[0;36mGoogleTranslateTransformer.__init__\u001b[1;34m(self, project_id, location, model_id, glossary_id, api_endpoint)\u001b[0m\n\u001b[0;32m     30\u001b[0m     \u001b[38;5;28;01mfrom\u001b[39;00m \u001b[38;5;21;01mgoogle\u001b[39;00m\u001b[38;5;21;01m.\u001b[39;00m\u001b[38;5;21;01mcloud\u001b[39;00m \u001b[38;5;28;01mimport\u001b[39;00m translate\n\u001b[0;32m     31\u001b[0m \u001b[38;5;28;01mexcept\u001b[39;00m \u001b[38;5;167;01mImportError\u001b[39;00m \u001b[38;5;28;01mas\u001b[39;00m exc:\n\u001b[1;32m---> 32\u001b[0m     \u001b[38;5;28;01mraise\u001b[39;00m \u001b[38;5;167;01mImportError\u001b[39;00m(\n\u001b[0;32m     33\u001b[0m         \u001b[38;5;124m\"\u001b[39m\u001b[38;5;124mInstall Google Cloud Translate to use this parser.\u001b[39m\u001b[38;5;124m\"\u001b[39m\n\u001b[0;32m     34\u001b[0m         \u001b[38;5;124m\"\u001b[39m\u001b[38;5;124m(pip install google-cloud-translate)\u001b[39m\u001b[38;5;124m\"\u001b[39m\n\u001b[0;32m     35\u001b[0m     ) \u001b[38;5;28;01mfrom\u001b[39;00m \u001b[38;5;21;01mexc\u001b[39;00m\n\u001b[0;32m     37\u001b[0m \u001b[38;5;28mself\u001b[39m\u001b[38;5;241m.\u001b[39mproject_id \u001b[38;5;241m=\u001b[39m project_id\n\u001b[0;32m     38\u001b[0m \u001b[38;5;28mself\u001b[39m\u001b[38;5;241m.\u001b[39mlocation \u001b[38;5;241m=\u001b[39m location\n",
      "\u001b[1;31mImportError\u001b[0m: Install Google Cloud Translate to use this parser.(pip install google-cloud-translate)"
     ]
    }
   ],
   "source": [
    "from langchain.document_transformers import GoogleTranslateTransformer\n",
    "from langchain.schema import Document\n",
    "import re\n",
    "from tqdm import tqdm\n",
    "\n",
    "def read_text_from_file(file_path):\n",
    "    with open(file_path, 'r', encoding='utf-8') as file:\n",
    "        text = file.read()\n",
    "    return text\n",
    "\n",
    "def split_text_into_chunks(text, max_chunk_size=300):\n",
    "    sentences = re.split(r'(?<=[.!?])\\s+', text)\n",
    "    chunks = []\n",
    "    current_chunk = \"\"\n",
    "    for sentence in sentences:\n",
    "        if len(current_chunk) + len(sentence) <= max_chunk_size:\n",
    "            current_chunk += sentence\n",
    "        else:\n",
    "            chunks.append(current_chunk)\n",
    "            current_chunk = sentence\n",
    "    if current_chunk:\n",
    "        chunks.append(current_chunk)\n",
    "    return chunks\n",
    "\n",
    "file_path = \"data/lp.txt\"\n",
    "sample_text = read_text_from_file(file_path)\n",
    "\n",
    "# 300자 부근의 구두점에서 청크로 나누기\n",
    "text_chunks = split_text_into_chunks(sample_text, max_chunk_size=300)\n",
    "\n",
    "# GoogleTranslateTransformer를 초기화하고 번역 수행\n",
    "translator = GoogleTranslateTransformer(project_id=PROJECT_ID)\n",
    "\n",
    "# 각각의 청크를 Document로 변환하고 번역 수행\n",
    "translated_documents = []\n",
    "\n",
    "# tqdm을 사용하여 진행 상황을 표시\n",
    "for chunk in tqdm(text_chunks, desc=\"Translating chunks\", unit=\"chunk\"):\n",
    "    document = Document(page_content=chunk)\n",
    "    translated_document = translator.transform_documents(\n",
    "        [document], target_language_code=\"ko\", source_language_code=\"en\"\n",
    "    )[0]\n",
    "    translated_documents.append(translated_document)\n",
    "\n",
    "# 번역된 텍스트 출력\n",
    "for translated_document in translated_documents:\n",
    "    print(translated_document.page_content)"
   ]
  }
 ],
 "metadata": {
  "environment": {
   "kernel": "python3",
   "name": ".m114",
   "type": "gcloud",
   "uri": "gcr.io/deeplearning-platform-release/:m114"
  },
  "kernelspec": {
   "display_name": "Python 3",
   "language": "python",
   "name": "python3"
  },
  "language_info": {
   "codemirror_mode": {
    "name": "ipython",
    "version": 3
   },
   "file_extension": ".py",
   "mimetype": "text/x-python",
   "name": "python",
   "nbconvert_exporter": "python",
   "pygments_lexer": "ipython3",
   "version": "3.10.13"
  }
 },
 "nbformat": 4,
 "nbformat_minor": 5
}
